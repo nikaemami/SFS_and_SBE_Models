{
 "cells": [
  {
   "cell_type": "markdown",
   "metadata": {},
   "source": [
    "Part A:\n",
    "**Sequential Forward Selection Method:**\n",
    "\n",
    "\n",
    "First I import the needed libraries as below:"
   ]
  },
  {
   "cell_type": "code",
   "execution_count": 2,
   "metadata": {},
   "outputs": [],
   "source": [
    "import pandas as pd\n",
    "import numpy as np\n",
    "from sklearn.model_selection import train_test_split\n",
    "from sklearn.preprocessing import StandardScaler\n",
    "from sklearn.naive_bayes import MultinomialNB\n",
    "from sklearn.metrics import accuracy_score\n",
    "from sklearn.metrics import mean_squared_error\n",
    "import matplotlib.pyplot as plt\n",
    "from sklearn.preprocessing import MinMaxScaler"
   ]
  },
  {
   "cell_type": "markdown",
   "metadata": {},
   "source": [
    "I preprocess the data to normalize it using **MinMaxScaler**, and then split it to train and test sets:"
   ]
  },
  {
   "cell_type": "code",
   "execution_count": 3,
   "metadata": {},
   "outputs": [],
   "source": [
    "data = pd.read_csv(\"/Users/Nika/Desktop/ML_HW5/mdlon.csv\")\n",
    "Xs = pd.read_csv(\"/Users/Nika/Desktop/ML_HW5/mdlon.csv\")\n",
    "ys = pd.DataFrame(data, columns=[\"T\"])\n",
    "del Xs[\"T\"]\n",
    "X = np.asarray(Xs)\n",
    "scaler = MinMaxScaler()\n",
    "X = scaler.fit_transform(X)\n",
    "y = np.asarray(ys)\n",
    "y= y.reshape(len(y), )\n",
    "\n",
    "training_data, testing_data, training_labels, testing_labels = train_test_split(X,y) \n"
   ]
  },
  {
   "cell_type": "markdown",
   "metadata": {},
   "source": [
    "I define a **sequential forward selection** function as below, that chooses the feature with **minimum mean square of errors** at each iteration, and returns the selected features and list of errors."
   ]
  },
  {
   "cell_type": "code",
   "execution_count": 16,
   "metadata": {},
   "outputs": [],
   "source": [
    "def SFS(training_data, testing_data, training_labels, testing_labels):\n",
    "        index_list = []\n",
    "        error_list = []\n",
    "        for i in range(len(training_data[0])):\n",
    "            best_index = 0\n",
    "            min_error = 100\n",
    "            for j in range(len(training_data[0])):\n",
    "                if j not in index_list:\n",
    "                    index_list.append(j)\n",
    "                    NB = MultinomialNB()\n",
    "                    NB.fit(training_data[:, index_list], training_labels)\n",
    "                    error = mean_squared_error(testing_labels, NB.predict(testing_data[:, index_list]))\n",
    "                    if (error <= min_error):\n",
    "                        min_error = error\n",
    "                        best_index = j\n",
    "                    index_list.pop()\n",
    "            index_list.append(best_index)\n",
    "            error_list.append(min_error)\n",
    "        return index_list, error_list\n",
    "\n",
    "selected, error_list = SFS(training_data, testing_data, training_labels, testing_labels)"
   ]
  },
  {
   "cell_type": "code",
   "execution_count": 22,
   "metadata": {},
   "outputs": [
    {
     "data": {
      "image/png": "[encoded data removed]",
      "text/plain": [
       "<Figure size 432x288 with 1 Axes>"
      ]
     },
     "metadata": {
      "needs_background": "light"
     },
     "output_type": "display_data"
    }
   ],
   "source": [
    "temp = min(error_list)\n",
    "index = int(0)\n",
    "for i in range(len(error_list)):\n",
    "    if error_list[i] == temp:\n",
    "        index = i\n",
    "               \n",
    "plt.plot(error_list, [str(i) for i in selected])\n",
    "plt.title('SFS')\n",
    "plt.xlabel('error')\n",
    "plt.ylabel('num of features')\n",
    "plt.show()"
   ]
  },
  {
   "cell_type": "markdown",
   "metadata": {},
   "source": [
    "I define a **sequential backward elimination** function as below, that chooses the feature with **max mean square of errors** at each iteration, and returns the selected features to be removed and list of errors:"
   ]
  },
  {
   "cell_type": "code",
   "execution_count": 23,
   "metadata": {},
   "outputs": [],
   "source": [
    "def SBE(training_data, testing_data, training_labels, testing_labels):\n",
    "        index_list = []\n",
    "        error_list = []\n",
    "        for i in range(len(training_data[0])):\n",
    "            best_index = 0\n",
    "            min_error = 100\n",
    "            for j in range(len(training_data[0])-1):\n",
    "                if j not in index_list:\n",
    "                    index_list.append(j)\n",
    "                    NB = MultinomialNB()\n",
    "                    NB.fit(np.delete(training_data, index_list, axis=1), training_labels)\n",
    "                    error = mean_squared_error(testing_labels, NB.predict(np.delete(testing_data, index_list, axis=1)))\n",
    "                    if (error <= min_error):\n",
    "                        min_error = error\n",
    "                        best_index = j\n",
    "                    index_list.pop()\n",
    "            index_list.append(best_index)\n",
    "            error_list.append(min_error)\n",
    "        return index_list,error_list\n",
    "\n",
    "removed, error_list_2 = SBE(training_data, testing_data, training_labels, testing_labels)"
   ]
  },
  {
   "cell_type": "code",
   "execution_count": 26,
   "metadata": {},
   "outputs": [],
   "source": [
    "def SBE(training_data, testing_data, training_labels, testing_labels):\n",
    "        index_list = []\n",
    "        error_list = []\n",
    "        for i in range(len(training_data[0])):\n",
    "            best_index = max_error = 0\n",
    "            for j in range(len(training_data[0])-1):\n",
    "                if j not in index_list:\n",
    "                    index_list.append(j)\n",
    "                    NB = MultinomialNB()\n",
    "                    NB.fit(np.delete(training_data, index_list, axis=1), training_labels)\n",
    "                    error = mean_squared_error(testing_labels, NB.predict(np.delete(testing_data, index_list, axis=1)))\n",
    "                    if (error >= max_error):\n",
    "                        max_error = error\n",
    "                        best_index = j\n",
    "                    index_list.pop()\n",
    "            index_list.append(best_index)\n",
    "            error_list.append(max_error)\n",
    "        return index_list,error_list\n",
    "\n",
    "removed, error_list_2 = SBE(training_data, testing_data, training_labels, testing_labels)"
   ]
  },
  {
   "cell_type": "code",
   "execution_count": 27,
   "metadata": {},
   "outputs": [
    {
     "data": {
      "image/png": "[encoded data removed]",
      "text/plain": [
       "<Figure size 432x288 with 1 Axes>"
      ]
     },
     "metadata": {
      "needs_background": "light"
     },
     "output_type": "display_data"
    }
   ],
   "source": [
    "temp_2 = min(error_list_2)\n",
    "index = 0\n",
    "for i in range(len(error_list_2)):\n",
    "    if error_list_2[i] == temp_2:\n",
    "        index = i\n",
    "        \n",
    "plt.plot(error_list_2, [str(i) for i in removed])\n",
    "plt.title('SBE')\n",
    "plt.xlabel('error')\n",
    "plt.ylabel('num of features')\n",
    "plt.show()"
   ]
  },
  {
   "cell_type": "markdown",
   "metadata": {},
   "source": [
    "Now comparison of the two algorithms: As we see, the SBE algorithm is **more accurate** since its error is less, and as we see from the running time of both algorithms, the SBE algorithm takes **longer time.**"
   ]
  },
  {
   "cell_type": "code",
   "execution_count": 30,
   "metadata": {
    "scrolled": true
   },
   "outputs": [
    {
     "name": "stdout",
     "output_type": "stream",
     "text": [
      "best features to be selected according to SFS [499, 475, 19, 238, 440, 439, 151, 474, 419, 412, 112, 457, 456, 384, 317, 473, 454, 330, 358, 307, 301, 382, 265, 471, 351, 309, 185, 251, 46, 25, 398, 308, 53, 268, 247, 455, 466, 405, 359, 490, 143, 244, 208, 95, 196, 26, 177, 44, 363, 74, 204, 12, 121, 322, 370, 56, 116, 114, 246, 113, 134, 7, 392, 106, 129, 165, 142, 327, 245, 214, 149, 315, 145, 111, 459, 207, 70, 181, 399, 299, 290, 391, 381, 122, 231, 22, 482, 62, 443, 272, 458, 450, 232, 368, 325, 353, 282, 203, 406, 432, 124, 356, 321, 197, 51, 488, 254, 260, 275, 383, 364, 235, 341, 280, 50, 171, 388, 240, 71, 120, 84, 441, 402, 107, 2, 376, 320, 324, 297, 352, 27, 452, 478, 326, 332, 90, 345, 288, 294, 35, 487, 400, 186, 130, 229, 202, 436, 434, 11, 284, 403, 164, 335, 279, 486, 461, 137, 159, 387, 86, 389, 13, 80, 68, 104, 98, 477, 34, 348, 312, 470, 361, 215, 344, 495, 300, 291, 58, 160, 263, 89, 380, 47, 201, 234, 468, 24, 451, 87, 103, 135, 365, 182, 252, 331, 18, 498, 78, 350, 448, 101, 115, 446, 180, 21, 41, 416, 373, 30, 189, 340, 491, 334, 183, 190, 397, 385, 497, 76, 259, 54, 269, 8, 61, 147, 83, 465, 438, 410, 408, 77, 484, 52, 102, 0, 169, 339, 73, 346, 367, 1, 271, 191, 270, 174, 213, 150, 184, 354, 168, 460, 306, 362, 29, 36, 230, 371, 192, 372, 20, 59, 273, 469, 117, 489, 66, 261, 274, 426, 479, 435, 421, 337, 423, 357, 81, 390, 418, 39, 316, 146, 303, 222, 233, 67, 141, 75, 148, 15, 287, 210, 32, 319, 302, 170, 257, 283, 404, 433, 267, 161, 225, 375, 166, 157, 250, 318, 17, 57, 14, 200, 173, 428, 248, 3, 69, 5, 467, 313, 118, 176, 293, 463, 4, 355, 386, 155, 37, 9, 144, 187, 82, 485, 228, 217, 369, 28, 195, 314, 393, 427, 10, 60, 133, 422, 430, 212, 94, 447, 223, 483, 329, 243, 242, 266, 16, 262, 188, 444, 218, 175, 395, 480, 464, 93, 311, 139, 179, 38, 97, 92, 88, 178, 216, 304, 374, 437, 123, 343, 126, 429, 6, 85, 462, 278, 476, 333, 206, 108, 96, 221, 23, 209, 401, 296, 239, 63, 492, 342, 128, 109, 417, 258, 236, 396, 125, 42, 220, 152, 199, 255, 289, 407, 158, 100, 132, 99, 305, 295, 110, 198, 413, 264, 162, 131, 119, 72, 277, 163, 45, 156, 49, 276, 379, 414, 237, 224, 496, 411, 445, 481, 65, 253, 425, 33, 366, 138, 256, 249, 154, 91, 55, 227, 79, 472, 449, 167, 420, 281, 377, 64, 415, 205, 219, 286, 127, 494, 360, 310, 328, 442, 136, 285, 153, 226, 336, 453, 31, 298, 431, 292, 409, 347, 241, 424, 193, 105, 43, 493, 48, 194, 211, 394, 378, 323, 40, 349, 338, 172, 140]\n",
      "best features to be removed according to SBE [475, 241, 442, 454, 43, 136, 478, 498, 497, 91, 368, 495, 489, 487, 484, 467, 479, 488, 360, 331, 491, 346, 465, 448, 440, 446, 486, 460, 441, 438, 416, 387, 380, 319, 284, 367, 337, 436, 389, 364, 302, 381, 435, 371, 344, 332, 316, 345, 318, 393, 443, 365, 354, 269, 273, 303, 464, 470, 403, 477, 482, 485, 301, 469, 376, 373, 385, 314, 402, 386, 312, 271, 326, 263, 452, 372, 355, 340, 279, 463, 87, 468, 422, 451, 406, 97, 473, 388, 474, 397, 139, 450, 400, 362, 408, 374, 423, 339, 390, 492, 320, 461, 418, 262, 334, 217, 341, 274, 300, 261, 257, 260, 396, 252, 369, 250, 169, 230, 160, 159, 267, 240, 222, 198, 259, 325, 288, 234, 270, 232, 206, 218, 195, 401, 183, 297, 225, 212, 266, 191, 189, 148, 144, 141, 106, 76, 59, 228, 233, 350, 130, 115, 430, 182, 305, 132, 213, 108, 150, 164, 158, 174, 68, 103, 77, 101, 75, 34, 107, 102, 81, 147, 47, 39, 28, 24, 54, 94, 2, 166, 82, 113, 52, 89, 291, 426, 118, 17, 67, 29, 61, 20, 321, 202, 289, 287, 190, 134, 71, 60, 86, 176, 178, 16, 428, 192, 98, 6, 421, 352, 135, 0, 30, 14, 15, 23, 13, 3, 315, 62, 361, 27, 93, 157, 210, 304, 36, 188, 104, 357, 410, 330, 7, 231, 220, 254, 214, 275, 131, 276, 41, 429, 395, 80, 96, 383, 245, 11, 201, 58, 295, 70, 458, 133, 19, 375, 313, 338, 427, 311, 180, 434, 466, 282, 306, 264, 444, 481, 239, 72, 490, 197, 1, 203, 293, 272, 155, 455, 343, 109, 145, 278, 480, 186, 398, 126, 8, 78, 168, 129, 391, 356, 125, 256, 483, 235, 156, 32, 84, 363, 92, 255, 21, 9, 283, 366, 90, 215, 309, 335, 200, 69, 117, 208, 290, 177, 26, 243, 379, 143, 152, 207, 122, 112, 187, 49, 165, 18, 88, 253, 120, 170, 100, 66, 35, 242, 417, 50, 324, 414, 409, 432, 37, 127, 404, 437, 280, 179, 161, 447, 149, 83, 322, 370, 22, 353, 73, 146, 237, 246, 196, 114, 392, 407, 162, 44, 294, 57, 116, 425, 420, 405, 358, 258, 199, 471, 307, 51, 163, 209, 42, 64, 493, 336, 433, 424, 472, 216, 411, 419, 79, 236, 38, 221, 10, 154, 238, 249, 449, 439, 359, 12, 229, 462, 399, 46, 327, 459, 244, 382, 95, 153, 63, 351, 111, 124, 268, 56, 123, 5, 65, 292, 85, 204, 378, 456, 431, 445, 342, 184, 310, 171, 308, 223, 476, 33, 317, 219, 185, 121, 415, 128, 251, 394, 74, 227, 384, 45, 31, 175, 328, 181, 457, 224, 151, 413, 349, 348, 173, 142, 138, 119, 296, 453, 494, 4, 105, 412, 281, 329, 40, 110, 299, 137, 377, 53, 48, 286, 333, 277, 347, 211, 496, 167, 205, 285, 193, 265, 248, 140, 226, 55, 323, 25, 298, 99, 172, 247, 194, 0]\n",
      "min error of SFS 1.104\n",
      "min error of SBE 0\n"
     ]
    }
   ],
   "source": [
    "print(\"best features to be selected according to SFS\",selected)\n",
    "print(\"best features to be removed according to SBE\",removed)\n",
    "print(\"min error of SFS\", min(error_list))\n",
    "print(\"min error of SBE\",min(error_list_2))"
   ]
  }
 ],
 "metadata": {
  "kernelspec": {
   "display_name": "Python 3",
   "language": "python",
   "name": "python3"
  },
  "language_info": {
   "codemirror_mode": {
    "name": "ipython",
    "version": 3
   },
   "file_extension": ".py",
   "mimetype": "text/x-python",
   "name": "python",
   "nbconvert_exporter": "python",
   "pygments_lexer": "ipython3",
   "version": "3.8.5"
  },
  "vscode": {
   "interpreter": {
    "hash": "eeab3e71adb6dbd0e75fb9a8c9bdb5e7c4aba7cf3fd60c4dcf30c1777b01516d"
   }
  }
 },
 "nbformat": 4,
 "nbformat_minor": 2
}
